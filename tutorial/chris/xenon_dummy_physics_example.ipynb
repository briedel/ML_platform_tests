{
 "cells": [
  {
   "cell_type": "code",
   "execution_count": 68,
   "metadata": {},
   "outputs": [],
   "source": [
    "import pandas\n",
    "import matplotlib.pyplot as plt\n",
    "%matplotlib inline\n",
    "import numpy as np\n",
    "import pandas as pd"
   ]
  },
  {
   "cell_type": "code",
   "execution_count": 21,
   "metadata": {},
   "outputs": [],
   "source": [
    "df = pandas.read_hdf('xenon_test_data.h5')"
   ]
  },
  {
   "cell_type": "code",
   "execution_count": 11,
   "metadata": {},
   "outputs": [
    {
     "data": {
      "text/html": [
       "<div>\n",
       "<style>\n",
       "    .dataframe thead tr:only-child th {\n",
       "        text-align: right;\n",
       "    }\n",
       "\n",
       "    .dataframe thead th {\n",
       "        text-align: left;\n",
       "    }\n",
       "\n",
       "    .dataframe tbody tr th {\n",
       "        vertical-align: top;\n",
       "    }\n",
       "</style>\n",
       "<table border=\"1\" class=\"dataframe\">\n",
       "  <thead>\n",
       "    <tr style=\"text-align: right;\">\n",
       "      <th></th>\n",
       "      <th>run_number</th>\n",
       "      <th>event_number</th>\n",
       "      <th>s2_area_tailcut_set_by</th>\n",
       "      <th>s2_over_tdiff</th>\n",
       "      <th>tailcut_set_by</th>\n",
       "      <th>s1_1_50p_width</th>\n",
       "      <th>s1_1_aft</th>\n",
       "      <th>s1_1_area</th>\n",
       "      <th>s1_1_center_time</th>\n",
       "      <th>s1_1_largest_hit_area</th>\n",
       "      <th>...</th>\n",
       "      <th>s2_1_largest_hit_area</th>\n",
       "      <th>s2_1_posrec_goodness_of_fit</th>\n",
       "      <th>s2_1_posrec_goodness_of_fit_nn</th>\n",
       "      <th>s2_1_rise_time</th>\n",
       "      <th>s2_1_x</th>\n",
       "      <th>s2_1_x_nn</th>\n",
       "      <th>s2_1_y</th>\n",
       "      <th>s2_1_y_nn</th>\n",
       "      <th>s2_area_tot</th>\n",
       "      <th>unknown_tot</th>\n",
       "    </tr>\n",
       "  </thead>\n",
       "  <tbody>\n",
       "    <tr>\n",
       "      <th>0</th>\n",
       "      <td>8311</td>\n",
       "      <td>0</td>\n",
       "      <td>0.000000e+00</td>\n",
       "      <td>0.000000</td>\n",
       "      <td>0</td>\n",
       "      <td>NaN</td>\n",
       "      <td>NaN</td>\n",
       "      <td>NaN</td>\n",
       "      <td>NaN</td>\n",
       "      <td>NaN</td>\n",
       "      <td>...</td>\n",
       "      <td>24853.009766</td>\n",
       "      <td>5235.186035</td>\n",
       "      <td>5601.398438</td>\n",
       "      <td>2097.895490</td>\n",
       "      <td>39.483608</td>\n",
       "      <td>39.881187</td>\n",
       "      <td>5.400494</td>\n",
       "      <td>5.610683</td>\n",
       "      <td>2.248347e+06</td>\n",
       "      <td>104.887558</td>\n",
       "    </tr>\n",
       "    <tr>\n",
       "      <th>1</th>\n",
       "      <td>8311</td>\n",
       "      <td>1</td>\n",
       "      <td>1.807614e+06</td>\n",
       "      <td>0.006926</td>\n",
       "      <td>1</td>\n",
       "      <td>NaN</td>\n",
       "      <td>NaN</td>\n",
       "      <td>NaN</td>\n",
       "      <td>NaN</td>\n",
       "      <td>NaN</td>\n",
       "      <td>...</td>\n",
       "      <td>33773.347656</td>\n",
       "      <td>6311.308594</td>\n",
       "      <td>7602.618164</td>\n",
       "      <td>1732.494589</td>\n",
       "      <td>3.000274</td>\n",
       "      <td>3.363387</td>\n",
       "      <td>38.043476</td>\n",
       "      <td>38.652359</td>\n",
       "      <td>1.073046e+06</td>\n",
       "      <td>57.850218</td>\n",
       "    </tr>\n",
       "    <tr>\n",
       "      <th>2</th>\n",
       "      <td>8311</td>\n",
       "      <td>2</td>\n",
       "      <td>3.333279e+05</td>\n",
       "      <td>0.024004</td>\n",
       "      <td>1</td>\n",
       "      <td>NaN</td>\n",
       "      <td>NaN</td>\n",
       "      <td>NaN</td>\n",
       "      <td>NaN</td>\n",
       "      <td>NaN</td>\n",
       "      <td>...</td>\n",
       "      <td>9166.551758</td>\n",
       "      <td>3222.168213</td>\n",
       "      <td>4315.865723</td>\n",
       "      <td>1890.164546</td>\n",
       "      <td>17.401590</td>\n",
       "      <td>18.061518</td>\n",
       "      <td>22.682072</td>\n",
       "      <td>23.084337</td>\n",
       "      <td>7.985587e+05</td>\n",
       "      <td>38.340455</td>\n",
       "    </tr>\n",
       "    <tr>\n",
       "      <th>3</th>\n",
       "      <td>8311</td>\n",
       "      <td>3</td>\n",
       "      <td>6.279493e+05</td>\n",
       "      <td>0.013589</td>\n",
       "      <td>1</td>\n",
       "      <td>NaN</td>\n",
       "      <td>NaN</td>\n",
       "      <td>NaN</td>\n",
       "      <td>NaN</td>\n",
       "      <td>NaN</td>\n",
       "      <td>...</td>\n",
       "      <td>5824.653809</td>\n",
       "      <td>1523.922852</td>\n",
       "      <td>1529.161743</td>\n",
       "      <td>3616.212444</td>\n",
       "      <td>-4.440406</td>\n",
       "      <td>-4.329351</td>\n",
       "      <td>33.723080</td>\n",
       "      <td>33.980186</td>\n",
       "      <td>2.214664e+05</td>\n",
       "      <td>37.059336</td>\n",
       "    </tr>\n",
       "    <tr>\n",
       "      <th>4</th>\n",
       "      <td>8311</td>\n",
       "      <td>4</td>\n",
       "      <td>1.807614e+06</td>\n",
       "      <td>0.003888</td>\n",
       "      <td>4</td>\n",
       "      <td>NaN</td>\n",
       "      <td>NaN</td>\n",
       "      <td>NaN</td>\n",
       "      <td>NaN</td>\n",
       "      <td>NaN</td>\n",
       "      <td>...</td>\n",
       "      <td>103230.492188</td>\n",
       "      <td>57072.730469</td>\n",
       "      <td>59293.273438</td>\n",
       "      <td>1676.072953</td>\n",
       "      <td>0.600055</td>\n",
       "      <td>0.041201</td>\n",
       "      <td>40.203674</td>\n",
       "      <td>41.187222</td>\n",
       "      <td>2.451366e+06</td>\n",
       "      <td>105.301023</td>\n",
       "    </tr>\n",
       "  </tbody>\n",
       "</table>\n",
       "<p>5 rows × 260 columns</p>\n",
       "</div>"
      ],
      "text/plain": [
       "   run_number  event_number  s2_area_tailcut_set_by  s2_over_tdiff  \\\n",
       "0        8311             0            0.000000e+00       0.000000   \n",
       "1        8311             1            1.807614e+06       0.006926   \n",
       "2        8311             2            3.333279e+05       0.024004   \n",
       "3        8311             3            6.279493e+05       0.013589   \n",
       "4        8311             4            1.807614e+06       0.003888   \n",
       "\n",
       "   tailcut_set_by  s1_1_50p_width  s1_1_aft  s1_1_area  s1_1_center_time  \\\n",
       "0               0             NaN       NaN        NaN               NaN   \n",
       "1               1             NaN       NaN        NaN               NaN   \n",
       "2               1             NaN       NaN        NaN               NaN   \n",
       "3               1             NaN       NaN        NaN               NaN   \n",
       "4               4             NaN       NaN        NaN               NaN   \n",
       "\n",
       "   s1_1_largest_hit_area     ...       s2_1_largest_hit_area  \\\n",
       "0                    NaN     ...                24853.009766   \n",
       "1                    NaN     ...                33773.347656   \n",
       "2                    NaN     ...                 9166.551758   \n",
       "3                    NaN     ...                 5824.653809   \n",
       "4                    NaN     ...               103230.492188   \n",
       "\n",
       "   s2_1_posrec_goodness_of_fit  s2_1_posrec_goodness_of_fit_nn  \\\n",
       "0                  5235.186035                     5601.398438   \n",
       "1                  6311.308594                     7602.618164   \n",
       "2                  3222.168213                     4315.865723   \n",
       "3                  1523.922852                     1529.161743   \n",
       "4                 57072.730469                    59293.273438   \n",
       "\n",
       "   s2_1_rise_time     s2_1_x  s2_1_x_nn     s2_1_y  s2_1_y_nn   s2_area_tot  \\\n",
       "0     2097.895490  39.483608  39.881187   5.400494   5.610683  2.248347e+06   \n",
       "1     1732.494589   3.000274   3.363387  38.043476  38.652359  1.073046e+06   \n",
       "2     1890.164546  17.401590  18.061518  22.682072  23.084337  7.985587e+05   \n",
       "3     3616.212444  -4.440406  -4.329351  33.723080  33.980186  2.214664e+05   \n",
       "4     1676.072953   0.600055   0.041201  40.203674  41.187222  2.451366e+06   \n",
       "\n",
       "   unknown_tot  \n",
       "0   104.887558  \n",
       "1    57.850218  \n",
       "2    38.340455  \n",
       "3    37.059336  \n",
       "4   105.301023  \n",
       "\n",
       "[5 rows x 260 columns]"
      ]
     },
     "execution_count": 11,
     "metadata": {},
     "output_type": "execute_result"
    }
   ],
   "source": [
    "df.head()"
   ]
  },
  {
   "cell_type": "code",
   "execution_count": 18,
   "metadata": {},
   "outputs": [
    {
     "data": {
      "text/plain": [
       "(pandas.core.series.Series, 0    1.807614e+06\n",
       " 1    3.333279e+05\n",
       " 2    6.279493e+05\n",
       " 3    1.461776e+05\n",
       " 4    1.135693e+06\n",
       " Name: s2, dtype: float64)"
      ]
     },
     "execution_count": 18,
     "metadata": {},
     "output_type": "execute_result"
    }
   ],
   "source": [
    "type(df['s2']), df['s2'].head()"
   ]
  },
  {
   "cell_type": "code",
   "execution_count": 25,
   "metadata": {},
   "outputs": [
    {
     "data": {
      "text/plain": [
       "['run_number',\n",
       " 'event_number',\n",
       " 's2_area_tailcut_set_by',\n",
       " 's2_over_tdiff',\n",
       " 'tailcut_set_by',\n",
       " 's1_1_50p_width',\n",
       " 's1_1_aft',\n",
       " 's1_1_area',\n",
       " 's1_1_center_time',\n",
       " 's1_1_largest_hit_area',\n",
       " 's1_1_posrec_goodness_of_fit',\n",
       " 's1_1_rise_time',\n",
       " 's1_1_x',\n",
       " 's1_1_y',\n",
       " 'alt_s1_interaction_z',\n",
       " 'alt_s2_interaction_s2_range_50p_area',\n",
       " 'alt_s2_interaction_s2_range_80p_area',\n",
       " 'alt_s2_interaction_x',\n",
       " 'alt_s2_interaction_y',\n",
       " 'alt_s2_interaction_z',\n",
       " 'other_s2_area',\n",
       " 'other_s2_delay_main_s1',\n",
       " 'other_s2_delay_main_s2',\n",
       " 'other_s2_pattern_fit',\n",
       " 'r_pos_correction',\n",
       " 's1_area_fraction_top_probability',\n",
       " 's1_largest_hit_area',\n",
       " 's1_pattern_fit',\n",
       " 's1_range_80p_area',\n",
       " 's1_rise_time',\n",
       " 's1_tight_coincidence',\n",
       " 's2_pattern_fit',\n",
       " 's2_range_80p_area',\n",
       " 's2_rise_time',\n",
       " 'sum_s1s_before_main_s2',\n",
       " 'x_nn',\n",
       " 'x_tpff',\n",
       " 'y_nn',\n",
       " 'y_tpff',\n",
       " 'z_pos_correction',\n",
       " 'nearest_1e5pe_event',\n",
       " 'nearest_1e6pe_event',\n",
       " 'nearest_3e5pe_event',\n",
       " 'nearest_busy',\n",
       " 'nearest_busy_off',\n",
       " 'nearest_busy_on',\n",
       " 'nearest_event',\n",
       " 'nearest_hev',\n",
       " 'nearest_hev_off',\n",
       " 'nearest_hev_on',\n",
       " 'nearest_muon_veto_trigger',\n",
       " 'nearest_s2_area',\n",
       " 'next_1e5pe_event',\n",
       " 'next_1e6pe_event',\n",
       " 'next_3e5pe_event',\n",
       " 'next_busy',\n",
       " 'next_busy_off',\n",
       " 'next_busy_on',\n",
       " 'next_event',\n",
       " 'next_hev',\n",
       " 'next_hev_off',\n",
       " 'next_hev_on',\n",
       " 'next_muon_veto_trigger',\n",
       " 'next_s2_area',\n",
       " 'previous_1e5pe_event',\n",
       " 'previous_1e6pe_event',\n",
       " 'previous_3e5pe_event',\n",
       " 'previous_busy',\n",
       " 'previous_busy_off',\n",
       " 'previous_busy_on',\n",
       " 'previous_event',\n",
       " 'previous_hev',\n",
       " 'previous_hev_off',\n",
       " 'previous_hev_on',\n",
       " 'previous_muon_veto_trigger',\n",
       " 'previous_s2_area',\n",
       " 'area_before_main_s2',\n",
       " 'n_true_peaks',\n",
       " 'total_peak_area',\n",
       " 'event_duration',\n",
       " 'event_time',\n",
       " 'ds_s1_b_n_distinct_channels',\n",
       " 'int_a_drift_time',\n",
       " 'int_a_s1_area_correction',\n",
       " 'int_a_s1_pattern_fit',\n",
       " 'int_a_s2_area_correction',\n",
       " 'int_a_x',\n",
       " 'int_a_y',\n",
       " 'int_a_z',\n",
       " 'int_b_drift_time',\n",
       " 'int_b_s1_area_correction',\n",
       " 'int_b_s1_pattern_fit',\n",
       " 'int_b_s2_area_correction',\n",
       " 'int_b_x',\n",
       " 'int_b_y',\n",
       " 'int_b_z',\n",
       " 's1_2',\n",
       " 's1_2_area_fraction_top',\n",
       " 's1_2_center_time',\n",
       " 's1_2_n_contributing_channels',\n",
       " 's1_2_range_50p_area',\n",
       " 's1_a',\n",
       " 's1_a_area_fraction_top',\n",
       " 's1_a_center_time',\n",
       " 's1_a_n_contributing_channels',\n",
       " 's1_a_range_50p_area',\n",
       " 's1_b',\n",
       " 's1_b_area_fraction_top',\n",
       " 's1_b_center_time',\n",
       " 's1_b_n_contributing_channels',\n",
       " 's1_b_range_50p_area',\n",
       " 's2_2',\n",
       " 's2_2_area_fraction_top',\n",
       " 's2_2_center_time',\n",
       " 's2_2_n_contributing_channels',\n",
       " 's2_2_range_50p_area',\n",
       " 's2_a',\n",
       " 's2_a_area_fraction_top',\n",
       " 's2_a_center_time',\n",
       " 's2_a_n_contributing_channels',\n",
       " 's2_a_range_50p_area',\n",
       " 's2_b',\n",
       " 's2_b_area_fraction_top',\n",
       " 's2_b_center_time',\n",
       " 's2_b_n_contributing_channels',\n",
       " 's2_b_range_50p_area',\n",
       " 'cs1',\n",
       " 'cs2',\n",
       " 'cs2_bottom',\n",
       " 'cs2_top',\n",
       " 'r',\n",
       " 'r_3d_nn',\n",
       " 'r_3d_tpf',\n",
       " 'r_correction_2d',\n",
       " 'r_correction_3d_nn',\n",
       " 'r_correction_3d_tpf',\n",
       " 'r_observed',\n",
       " 'r_observed_nn',\n",
       " 'r_observed_tpf',\n",
       " 's1_xyz_correction',\n",
       " 's2_lifetime_correction',\n",
       " 's2_xy_correction_bottom',\n",
       " 's2_xy_correction_top',\n",
       " 's2_xy_correction_tot',\n",
       " 'ts',\n",
       " 'x',\n",
       " 'x_3d_nn',\n",
       " 'x_3d_tpf',\n",
       " 'x_observed_nn',\n",
       " 'x_observed_tpf',\n",
       " 'y',\n",
       " 'y_3d_nn',\n",
       " 'y_3d_tpf',\n",
       " 'y_observed_nn',\n",
       " 'y_observed_tpf',\n",
       " 'z_3d_nn',\n",
       " 'z_3d_tpf',\n",
       " 'z_correction_2d',\n",
       " 'z_correction_3d_nn',\n",
       " 'z_correction_3d_tpf',\n",
       " 'z_observed',\n",
       " 'lone_hit_area',\n",
       " 'lone_hit_area_fraction_top',\n",
       " 'lone_hit_center_time',\n",
       " 'lone_hit_hit_time_std',\n",
       " 'lone_hit_n_contributing_channels',\n",
       " 'lone_hit_n_hits',\n",
       " 'lone_hit_n_saturated_channels',\n",
       " 'lone_hit_range_50p_area',\n",
       " 'lone_hit_range_90p_area',\n",
       " 'lone_hit_x',\n",
       " 'lone_hit_y',\n",
       " 's1_area',\n",
       " 's1_center_time',\n",
       " 's1_hit_time_std',\n",
       " 's1_n_contributing_channels',\n",
       " 's1_n_hits',\n",
       " 's1_n_saturated_channels',\n",
       " 's1_range_90p_area',\n",
       " 's1_x',\n",
       " 's1_y',\n",
       " 's2_area',\n",
       " 's2_center_time',\n",
       " 's2_hit_time_std',\n",
       " 's2_n_contributing_channels',\n",
       " 's2_n_hits',\n",
       " 's2_n_saturated_channels',\n",
       " 's2_range_90p_area',\n",
       " 's2_x',\n",
       " 's2_y',\n",
       " 'unknown_area',\n",
       " 'unknown_area_fraction_top',\n",
       " 'unknown_center_time',\n",
       " 'unknown_hit_time_std',\n",
       " 'unknown_n_contributing_channels',\n",
       " 'unknown_n_hits',\n",
       " 'unknown_n_saturated_channels',\n",
       " 'unknown_range_50p_area',\n",
       " 'unknown_range_90p_area',\n",
       " 'unknown_x',\n",
       " 'unknown_y',\n",
       " 'drift_time',\n",
       " 'largest_coincidence',\n",
       " 'largest_other_s1',\n",
       " 'largest_other_s2',\n",
       " 'largest_unknown',\n",
       " 'largest_veto',\n",
       " 's1',\n",
       " 's1_area_fraction_top',\n",
       " 's1_range_50p_area',\n",
       " 's2',\n",
       " 's2_area_fraction_top',\n",
       " 's2_range_50p_area',\n",
       " 'x_pax',\n",
       " 'y_pax',\n",
       " 'z',\n",
       " 'area_before_largest_s1',\n",
       " 'area_before_largest_s2',\n",
       " 'n_interactions',\n",
       " 'n_peaks',\n",
       " 'n_pulses',\n",
       " 'n_s1',\n",
       " 'n_s2',\n",
       " 's1_0_50p_width',\n",
       " 's1_0_aft',\n",
       " 's1_0_area',\n",
       " 's1_0_center_time',\n",
       " 's1_0_largest_hit_area',\n",
       " 's1_0_posrec_goodness_of_fit',\n",
       " 's1_0_rise_time',\n",
       " 's1_0_x',\n",
       " 's1_0_y',\n",
       " 's1_area_tot',\n",
       " 's2_0_50p_width',\n",
       " 's2_0_aft',\n",
       " 's2_0_area',\n",
       " 's2_0_center_time',\n",
       " 's2_0_largest_hit_area',\n",
       " 's2_0_left',\n",
       " 's2_0_posrec_goodness_of_fit',\n",
       " 's2_0_posrec_goodness_of_fit_nn',\n",
       " 's2_0_rise_time',\n",
       " 's2_0_x',\n",
       " 's2_0_x_nn',\n",
       " 's2_0_y',\n",
       " 's2_0_y_nn',\n",
       " 's2_1_50p_width',\n",
       " 's2_1_aft',\n",
       " 's2_1_area',\n",
       " 's2_1_center_time',\n",
       " 's2_1_largest_hit_area',\n",
       " 's2_1_posrec_goodness_of_fit',\n",
       " 's2_1_posrec_goodness_of_fit_nn',\n",
       " 's2_1_rise_time',\n",
       " 's2_1_x',\n",
       " 's2_1_x_nn',\n",
       " 's2_1_y',\n",
       " 's2_1_y_nn',\n",
       " 's2_area_tot',\n",
       " 'unknown_tot',\n",
       " 'CutAllEnergy',\n",
       " 'CutFiducialCylinder1T',\n",
       " 'CutInteractionExists',\n",
       " 'CutS2Threshold',\n",
       " 'CutS2AreaFractionTop',\n",
       " 'CutS2SingleScatter',\n",
       " 'CutDAQVeto',\n",
       " 'CutEndOfRunCheck',\n",
       " 'CutBusyTypeCheck',\n",
       " 'CutBusyCheck',\n",
       " 'CutHEVCheck',\n",
       " 'CutS1SingleScatter',\n",
       " 'CutS1AreaFractionTop',\n",
       " 'CutS2PatternLikelihood',\n",
       " 'CutS2Tails',\n",
       " 'CutInteractionPeaksBiggest',\n",
       " 'CutLowEnergyBackground',\n",
       " 'CutS1LowEnergyRange',\n",
       " 'CutS2SingleScatterSimple',\n",
       " 'CutS1PatternLikelihood',\n",
       " 'CutS2Width',\n",
       " 'CutS2WidthHigh',\n",
       " 'CutS2WidthLow',\n",
       " 'CutS1MaxPMT',\n",
       " 'CutPreS2Junk']"
      ]
     },
     "execution_count": 25,
     "metadata": {},
     "output_type": "execute_result"
    }
   ],
   "source": [
    "list(df.columns)"
   ]
  },
  {
   "cell_type": "code",
   "execution_count": 26,
   "metadata": {},
   "outputs": [
    {
     "data": {
      "text/plain": [
       "<matplotlib.axes._subplots.AxesSubplot at 0x7efe3f961f60>"
      ]
     },
     "execution_count": 26,
     "metadata": {},
     "output_type": "execute_result"
    },
    {
     "data": {
      "image/png": "[encoded data removed]",
      "text/plain": [
       "<matplotlib.figure.Figure at 0x7efe7cbcfa90>"
      ]
     },
     "metadata": {},
     "output_type": "display_data"
    }
   ],
   "source": [
    "df['event_number'].hist()"
   ]
  },
  {
   "cell_type": "code",
   "execution_count": 15,
   "metadata": {},
   "outputs": [
    {
     "name": "stdout",
     "output_type": "stream",
     "text": [
      "/ML_platform_tests/tutorial/chris\r\n"
     ]
    }
   ],
   "source": [
    "!pwd"
   ]
  },
  {
   "cell_type": "code",
   "execution_count": 28,
   "metadata": {},
   "outputs": [
    {
     "data": {
      "text/plain": [
       "False    101166\n",
       "True         68\n",
       "Name: CutAllEnergy, dtype: int64"
      ]
     },
     "execution_count": 28,
     "metadata": {},
     "output_type": "execute_result"
    }
   ],
   "source": [
    "df['CutAllEnergy'].value_counts()"
   ]
  },
  {
   "cell_type": "code",
   "execution_count": 30,
   "metadata": {},
   "outputs": [],
   "source": [
    "df2 = df[df['CutAllEnergy']]"
   ]
  },
  {
   "cell_type": "code",
   "execution_count": 36,
   "metadata": {},
   "outputs": [
    {
     "data": {
      "text/plain": [
       "[<matplotlib.lines.Line2D at 0x7efe3f825c88>]"
      ]
     },
     "execution_count": 36,
     "metadata": {},
     "output_type": "execute_result"
    },
    {
     "data": {
      "image/png": "[encoded data removed]",
      "text/plain": [
       "<matplotlib.figure.Figure at 0x7efe3f8dda58>"
      ]
     },
     "metadata": {},
     "output_type": "display_data"
    }
   ],
   "source": [
    "plt.plot(df2.cs1, df2.cs2, '.')"
   ]
  },
  {
   "cell_type": "code",
   "execution_count": 39,
   "metadata": {},
   "outputs": [
    {
     "data": {
      "text/plain": [
       "[<matplotlib.lines.Line2D at 0x7efe3d0be940>]"
      ]
     },
     "execution_count": 39,
     "metadata": {},
     "output_type": "execute_result"
    },
    {
     "data": {
      "image/png": "[encoded data removed]",
      "text/plain": [
       "<matplotlib.figure.Figure at 0x7efe3d0ec550>"
      ]
     },
     "metadata": {},
     "output_type": "display_data"
    }
   ],
   "source": [
    "plt.plot(df2.x, df2.z, '.')"
   ]
  },
  {
   "cell_type": "code",
   "execution_count": 38,
   "metadata": {},
   "outputs": [
    {
     "data": {
      "text/plain": [
       "[<matplotlib.lines.Line2D at 0x7efe3d0824e0>]"
      ]
     },
     "execution_count": 38,
     "metadata": {},
     "output_type": "execute_result"
    },
    {
     "data": {
      "image/png": "[encoded data removed]",
      "text/plain": [
       "<matplotlib.figure.Figure at 0x7efe3f841438>"
      ]
     },
     "metadata": {},
     "output_type": "display_data"
    }
   ],
   "source": [
    "plt.plot(df.x, df.y, '.')"
   ]
  },
  {
   "cell_type": "code",
   "execution_count": 42,
   "metadata": {},
   "outputs": [],
   "source": [
    "df['r'] = np.sqrt(df['x']**2 + df['y']**2)"
   ]
  },
  {
   "cell_type": "code",
   "execution_count": 46,
   "metadata": {},
   "outputs": [
    {
     "data": {
      "text/plain": [
       "<matplotlib.axes._subplots.AxesSubplot at 0x7efe380c1da0>"
      ]
     },
     "execution_count": 46,
     "metadata": {},
     "output_type": "execute_result"
    },
    {
     "data": {
      "image/png": "[encoded data removed]",
      "text/plain": [
       "<matplotlib.figure.Figure at 0x7efe380769e8>"
      ]
     },
     "metadata": {},
     "output_type": "display_data"
    }
   ],
   "source": [
    "df['r'].hist()"
   ]
  },
  {
   "cell_type": "code",
   "execution_count": 57,
   "metadata": {},
   "outputs": [
    {
     "data": {
      "text/plain": [
       "(0, 20000.0)"
      ]
     },
     "execution_count": 57,
     "metadata": {},
     "output_type": "execute_result"
    },
    {
     "data": {
      "image/png": "[encoded data removed]",
      "text/plain": [
       "<matplotlib.figure.Figure at 0x7efe33125860>"
      ]
     },
     "metadata": {},
     "output_type": "display_data"
    }
   ],
   "source": [
    "E = 40\n",
    "plt.scatter(df2['cs1'], df2['cs2'])\n",
    "plt.xlim(0, 300)\n",
    "plt.ylim(0, 20e3)\n"
   ]
  },
  {
   "cell_type": "code",
   "execution_count": 63,
   "metadata": {},
   "outputs": [
    {
     "data": {
      "text/html": [
       "<div>\n",
       "<style>\n",
       "    .dataframe thead tr:only-child th {\n",
       "        text-align: right;\n",
       "    }\n",
       "\n",
       "    .dataframe thead th {\n",
       "        text-align: left;\n",
       "    }\n",
       "\n",
       "    .dataframe tbody tr th {\n",
       "        vertical-align: top;\n",
       "    }\n",
       "</style>\n",
       "<table border=\"1\" class=\"dataframe\">\n",
       "  <thead>\n",
       "    <tr style=\"text-align: right;\">\n",
       "      <th></th>\n",
       "      <th>cs1</th>\n",
       "      <th>cs2</th>\n",
       "    </tr>\n",
       "  </thead>\n",
       "  <tbody>\n",
       "    <tr>\n",
       "      <th>152</th>\n",
       "      <td>778.113314</td>\n",
       "      <td>39673.505884</td>\n",
       "    </tr>\n",
       "    <tr>\n",
       "      <th>682</th>\n",
       "      <td>11.019045</td>\n",
       "      <td>1750.988897</td>\n",
       "    </tr>\n",
       "    <tr>\n",
       "      <th>1897</th>\n",
       "      <td>250.581678</td>\n",
       "      <td>7822.072664</td>\n",
       "    </tr>\n",
       "    <tr>\n",
       "      <th>3796</th>\n",
       "      <td>1266.924975</td>\n",
       "      <td>76882.724028</td>\n",
       "    </tr>\n",
       "    <tr>\n",
       "      <th>5781</th>\n",
       "      <td>13.925521</td>\n",
       "      <td>2272.624209</td>\n",
       "    </tr>\n",
       "  </tbody>\n",
       "</table>\n",
       "</div>"
      ],
      "text/plain": [
       "              cs1           cs2\n",
       "152    778.113314  39673.505884\n",
       "682     11.019045   1750.988897\n",
       "1897   250.581678   7822.072664\n",
       "3796  1266.924975  76882.724028\n",
       "5781    13.925521   2272.624209"
      ]
     },
     "execution_count": 63,
     "metadata": {},
     "output_type": "execute_result"
    }
   ],
   "source": [
    "df2.loc[:, ('cs1', 'cs2')].head()"
   ]
  },
  {
   "cell_type": "code",
   "execution_count": 71,
   "metadata": {},
   "outputs": [
    {
     "data": {
      "text/plain": [
       "152    2017-03-30 05:28:01.948269350\n",
       "682    2017-03-30 05:28:57.160364610\n",
       "1897   2017-03-30 05:31:05.326684670\n",
       "3796   2017-03-30 05:34:32.639400520\n",
       "5781   2017-03-30 05:37:59.041098160\n",
       "Name: event_time, dtype: datetime64[ns]"
      ]
     },
     "execution_count": 71,
     "metadata": {},
     "output_type": "execute_result"
    }
   ],
   "source": [
    "pd.to_datetime(df2['event_time']).head()"
   ]
  },
  {
   "cell_type": "code",
   "execution_count": 72,
   "metadata": {},
   "outputs": [],
   "source": [
    "df2.index = pd.to_datetime(df2['event_time'])"
   ]
  },
  {
   "cell_type": "code",
   "execution_count": 76,
   "metadata": {},
   "outputs": [
    {
     "data": {
      "text/plain": [
       "<matplotlib.axes._subplots.AxesSubplot at 0x7efe30a2c0f0>"
      ]
     },
     "execution_count": 76,
     "metadata": {},
     "output_type": "execute_result"
    },
    {
     "data": {
      "image/png": "[encoded data removed]",
      "text/plain": [
       "<matplotlib.figure.Figure at 0x7efe30a91198>"
      ]
     },
     "metadata": {},
     "output_type": "display_data"
    }
   ],
   "source": [
    "df2['z'].plot()"
   ]
  },
  {
   "cell_type": "code",
   "execution_count": 78,
   "metadata": {},
   "outputs": [
    {
     "data": {
      "text/plain": [
       "False    101213\n",
       "True         21\n",
       "Name: CutLowEnergyBackground, dtype: int64"
      ]
     },
     "execution_count": 78,
     "metadata": {},
     "output_type": "execute_result"
    }
   ],
   "source": [
    "df['CutLowEnergyBackground'].value_counts()"
   ]
  },
  {
   "cell_type": "code",
   "execution_count": 82,
   "metadata": {},
   "outputs": [
    {
     "data": {
      "image/png": "[encoded data removed]",
      "text/plain": [
       "<matplotlib.figure.Figure at 0x7efe308acdd8>"
      ]
     },
     "metadata": {},
     "output_type": "display_data"
    }
   ],
   "source": [
    "df3 = df[df['CutLowEnergyBackground']]\n",
    "plt.scatter(df3.cs1, df3.cs2)\n",
    "plt.xlabel('cs1 [PE]')\n",
    "plt.ylabel('cs1 [PE]')\n",
    "plt.xscale('log')\n",
    "plt.yscale('log')"
   ]
  },
  {
   "cell_type": "code",
   "execution_count": 86,
   "metadata": {},
   "outputs": [
    {
     "data": {
      "text/plain": [
       "Text(0,0.5,'z [PE]')"
      ]
     },
     "execution_count": 86,
     "metadata": {},
     "output_type": "execute_result"
    },
    {
     "data": {
      "image/png": "[encoded data removed]",
      "text/plain": [
       "<matplotlib.figure.Figure at 0x7efdc069abe0>"
      ]
     },
     "metadata": {},
     "output_type": "display_data"
    }
   ],
   "source": [
    "df3 = df[df['CutAllEnergy']]\n",
    "plt.scatter(df3.s2, df3.z)\n",
    "plt.xlabel('s2 [PE]')\n",
    "plt.ylabel('z [PE]')\n"
   ]
  },
  {
   "cell_type": "code",
   "execution_count": null,
   "metadata": {},
   "outputs": [],
   "source": []
  }
 ],
 "metadata": {
  "kernelspec": {
   "display_name": "Python 3",
   "language": "python",
   "name": "python3"
  },
  "language_info": {
   "codemirror_mode": {
    "name": "ipython",
    "version": 3
   },
   "file_extension": ".py",
   "mimetype": "text/x-python",
   "name": "python",
   "nbconvert_exporter": "python",
   "pygments_lexer": "ipython3",
   "version": "3.5.2"
  }
 },
 "nbformat": 4,
 "nbformat_minor": 2
}
