{
 "cells": [
  {
   "cell_type": "markdown",
   "metadata": {},
   "source": [
    "# Recognizing one 7 segment display digit\n",
    "### input are values of 7 segments of the digital display. Output is a binary representation of the number shown.\n",
    "![7 segment display to binary](7 to BCD.png \"task at hand\")"
   ]
  },
  {
   "cell_type": "code",
   "execution_count": 14,
   "metadata": {
    "collapsed": false
   },
   "outputs": [],
   "source": [
    "%matplotlib inline\n",
    "import matplotlib.pyplot as plt\n",
    "import numpy as np\n",
    "import pandas as pd\n",
    "\n",
    "from keras.models import Sequential\n",
    "from keras.layers import Dense, Activation\n",
    "from keras import optimizers\n",
    "from keras.layers.normalization import BatchNormalization\n",
    "from IPython.display import SVG"
   ]
  },
  {
   "cell_type": "markdown",
   "metadata": {},
   "source": [
    "input and output data"
   ]
  },
  {
   "cell_type": "code",
   "execution_count": 5,
   "metadata": {
    "collapsed": false
   },
   "outputs": [
    {
     "name": "stdout",
     "output_type": "stream",
     "text": [
      "(16, 7) (16, 4)\n"
     ]
    }
   ],
   "source": [
    "zer = [1,1,1,1,1,1,0]\n",
    "one = [0,1,1,0,0,0,0]\n",
    "two = [1,1,0,1,1,0,1]\n",
    "thr = [1,1,1,1,0,0,1]\n",
    "fou = [0,1,1,0,0,1,1]\n",
    "fiv = [1,0,1,1,0,1,1]\n",
    "six = [1,0,1,1,1,1,1]\n",
    "sev = [1,1,1,0,0,0,0]\n",
    "eig = [1,1,1,1,1,1,1]\n",
    "nin = [1,1,1,1,0,1,1]\n",
    "eij = [1,1,1,0,1,1,1] #A\n",
    "bee = [0,0,1,1,1,1,1] #b\n",
    "see = [1,0,0,1,1,1,0] #C\n",
    "dee = [0,1,1,1,1,0,1] #d\n",
    "eee = [1,0,0,1,1,1,1] #E\n",
    "eff = [1,0,0,0,1,1,1] #F\n",
    "inp=[zer, one, two, thr, fou, fiv, six, sev, eig, nin, eij, bee, see, dee, eee, eff]\n",
    "out=[[0,0,0,0],[0,0,0,1],[0,0,1,0],[0,0,1,1],[0,1,0,0],[0,1,0,1],[0,1,1,0],[0,1,1,1],[1,0,0,0],[1,0,0,1],[1,0,1,0],[1,0,1,1],[1,1,0,0],[1,1,0,1],[1,1,1,0],[1,1,1,1]]\n",
    "\n",
    "X_df=pd.DataFrame(inp,columns=['l1','l2','l3','l4','l5','l6','l7'])\n",
    "X_df\n",
    "Y_df=pd.DataFrame(out,columns=['b0','b1','b2','b3'])\n",
    "Y_df\n",
    "print(X_df.shape, Y_df.shape)\n",
    "X=X_df.values\n",
    "Y=Y_df.values"
   ]
  },
  {
   "cell_type": "markdown",
   "metadata": {},
   "source": [
    "#### NN model"
   ]
  },
  {
   "cell_type": "code",
   "execution_count": 15,
   "metadata": {
    "collapsed": false
   },
   "outputs": [],
   "source": [
    "model = Sequential()\n",
    "L1=Dense( units=7, input_shape=(7,), activation='relu')\n",
    "model.add(L1)\n",
    "L2=Dense(units=4, activation='sigmoid') # relu\n",
    "model.add(L2)\n",
    "model.compile(loss='mse',optimizer='rmsprop', metrics=['accuracy'])\n",
    "my_sgd = optimizers.SGD(lr=0.01, momentum=0.5, decay=0.1, nesterov=True)\n",
    "\n",
    "\n",
    "#model.add(Dense( units=7, input_shape=(7,), activation='relu'))\n",
    "#model.add(BatchNormalization())\n",
    "#model.add(model.add(lambda(rectifier)))\n",
    "\n",
    "#model.compile(loss='categorical_crossentropy', optimizer='adam', metrics=['accuracy'])\n",
    "#model.compile(loss='mse', optimizer='adagrad', metrics=['accuracy'])\n",
    "#model.compile(loss='mse',optimizer='sgd', metrics=['binary_accuracy'])"
   ]
  },
  {
   "cell_type": "markdown",
   "metadata": {},
   "source": [
    "#### training"
   ]
  },
  {
   "cell_type": "code",
   "execution_count": 16,
   "metadata": {
    "collapsed": false
   },
   "outputs": [],
   "source": [
    "epochs=5000\n",
    "hist = model.fit(X, Y, epochs=epochs,  verbose=0, shuffle=True) #batch_size=5,"
   ]
  },
  {
   "cell_type": "markdown",
   "metadata": {},
   "source": [
    "#### Check how fast it converged"
   ]
  },
  {
   "cell_type": "code",
   "execution_count": 17,
   "metadata": {
    "collapsed": false
   },
   "outputs": [
    {
     "data": {
      "image/png": "[encoded data removed]",
      "text/plain": [
       "<matplotlib.figure.Figure at 0x7ff2d80c7c88>"
      ]
     },
     "metadata": {},
     "output_type": "display_data"
    }
   ],
   "source": [
    "x = np.linspace(0,epochs-1,epochs)\n",
    "plt.plot(x, hist.history['loss'], '--', linewidth=2, label='loss')\n",
    "plt.plot(x, hist.history['acc'], '-', linewidth=2, label='acc')\n",
    "plt.legend()\n",
    "plt.show()"
   ]
  },
  {
   "cell_type": "markdown",
   "metadata": {},
   "source": [
    "#### Final loss and accuracy"
   ]
  },
  {
   "cell_type": "code",
   "execution_count": 18,
   "metadata": {
    "collapsed": false
   },
   "outputs": [
    {
     "name": "stdout",
     "output_type": "stream",
     "text": [
      "\r",
      "16/16 [==============================] - 0s\n",
      "[2.7387422960600816e-05, 0.5625]\n"
     ]
    }
   ],
   "source": [
    "loss_and_metrics = model.evaluate(X, Y)\n",
    "print(loss_and_metrics)"
   ]
  },
  {
   "cell_type": "markdown",
   "metadata": {},
   "source": [
    "#### Print out weights"
   ]
  },
  {
   "cell_type": "code",
   "execution_count": 19,
   "metadata": {
    "collapsed": false
   },
   "outputs": [
    {
     "data": {
      "text/plain": [
       "[array([[ 3.25912213,  3.79286122,  3.75771189,  3.34451151],\n",
       "        [-3.54982948, -4.30660915,  2.80844164,  5.21830559],\n",
       "        [-4.66096544,  4.65326405, -3.38997197, -2.98808169],\n",
       "        [-1.37400985, -4.42106819,  2.66241932, -5.46372938],\n",
       "        [ 1.93589485, -5.06448984, -4.47617674, -2.62029123],\n",
       "        [-2.65894675, -2.63501334,  4.23232746,  4.62428427],\n",
       "        [-4.8769927 ,  4.46456623, -4.85717583, -1.35408068]], dtype=float32),\n",
       " array([ 4.74995184,  3.77547717, -3.56559896,  4.46597385], dtype=float32)]"
      ]
     },
     "execution_count": 19,
     "metadata": {},
     "output_type": "execute_result"
    }
   ],
   "source": [
    "L1.get_weights()\n",
    "L2.get_weights()"
   ]
  },
  {
   "cell_type": "markdown",
   "metadata": {},
   "source": [
    "#### See if there is a problem with any character"
   ]
  },
  {
   "cell_type": "code",
   "execution_count": 23,
   "metadata": {
    "collapsed": false
   },
   "outputs": [
    {
     "name": "stdout",
     "output_type": "stream",
     "text": [
      "['0.00', '0.00', '0.00', '0.00'] [0, 0, 0, 0] [0, 0, 0, 0] Yay!\n",
      "['0.00', '0.01', '0.00', '1.00'] [0, 0, 0, 1] [0, 0, 0, 1] Yay!\n",
      "['0.00', '0.00', '1.00', '0.00'] [0, 0, 1, 0] [0, 0, 1, 0] Yay!\n",
      "['0.00', '0.00', '1.00', '1.00'] [0, 0, 1, 1] [0, 0, 1, 1] Yay!\n",
      "['0.00', '1.00', '0.00', '0.00'] [0, 1, 0, 0] [0, 1, 0, 0] Yay!\n",
      "['0.00', '1.00', '0.00', '1.00'] [0, 1, 0, 1] [0, 1, 0, 1] Yay!\n",
      "['0.00', '1.00', '1.00', '0.00'] [0, 1, 1, 0] [0, 1, 1, 0] Yay!\n",
      "['0.00', '1.00', '1.00', '1.00'] [0, 1, 1, 1] [0, 1, 1, 1] Yay!\n",
      "['0.99', '0.00', '0.00', '0.00'] [1, 0, 0, 0] [1, 0, 0, 0] Yay!\n",
      "['0.99', '0.00', '0.00', '1.00'] [1, 0, 0, 1] [1, 0, 0, 1] Yay!\n",
      "['1.00', '0.00', '1.00', '0.00'] [1, 0, 1, 0] [1, 0, 1, 0] Yay!\n",
      "['1.00', '0.00', '1.00', '1.00'] [1, 0, 1, 1] [1, 0, 1, 1] Yay!\n",
      "['1.00', '1.00', '0.00', '0.00'] [1, 1, 0, 0] [1, 1, 0, 0] Yay!\n",
      "['0.99', '0.98', '0.03', '0.99'] [1, 1, 0, 1] [1, 1, 0, 1] Yay!\n",
      "['1.00', '1.00', '1.00', '0.00'] [1, 1, 1, 0] [1, 1, 1, 0] Yay!\n",
      "['1.00', '1.00', '1.00', '1.00'] [1, 1, 1, 1] [1, 1, 1, 1] Yay!\n"
     ]
    }
   ],
   "source": [
    "pred = model.predict(inp)\n",
    "for co,i in enumerate(pred):\n",
    "    c=[]\n",
    "    for j in i:\n",
    "        if j>0.5: c.append(1)\n",
    "        else: c.append(0)\n",
    "    if c==out[co]: \n",
    "        st=\"Yay!\"\n",
    "    else:\n",
    "        st=\"Nay\"\n",
    "    print([\"{0:0.2f}\".format(n) for n in i], c, out[co], st)"
   ]
  },
  {
   "cell_type": "code",
   "execution_count": null,
   "metadata": {
    "collapsed": false
   },
   "outputs": [],
   "source": []
  }
 ],
 "metadata": {
  "kernelspec": {
   "display_name": "Python 3",
   "language": "python",
   "name": "python3"
  },
  "language_info": {
   "codemirror_mode": {
    "name": "ipython",
    "version": 3
   },
   "file_extension": ".py",
   "mimetype": "text/x-python",
   "name": "python",
   "nbconvert_exporter": "python",
   "pygments_lexer": "ipython3",
   "version": "3.5.2"
  }
 },
 "nbformat": 4,
 "nbformat_minor": 2
}
