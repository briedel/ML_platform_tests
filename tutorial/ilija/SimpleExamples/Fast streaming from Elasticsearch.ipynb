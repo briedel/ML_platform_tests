{
 "cells": [
  {
   "cell_type": "markdown",
   "metadata": {},
   "source": [
    "# Streaming selected data from Elasticsearch\n",
    "\n",
    "There are two ways to get data from elasticsearch: query and streaming. Query is prefered method for all searches that return in less than 1-5 minutes. To stream much more data (potentially all) one uses _*scan*_ method. To further optimize the scan, one can request only subset of fields and not full documents."
   ]
  },
  {
   "cell_type": "markdown",
   "metadata": {},
   "source": [
    "#### imports"
   ]
  },
  {
   "cell_type": "code",
   "execution_count": 1,
   "metadata": {},
   "outputs": [],
   "source": [
    "from elasticsearch import Elasticsearch\n",
    "from elasticsearch.helpers import scan\n",
    "import time"
   ]
  },
  {
   "cell_type": "markdown",
   "metadata": {},
   "source": [
    "#### time range to read"
   ]
  },
  {
   "cell_type": "code",
   "execution_count": 6,
   "metadata": {},
   "outputs": [],
   "source": [
    "start = 1505573241 # Sep 16  9:... AM    \n",
    "interval = 3600 #seconds     \n",
    "end = start + interval"
   ]
  },
  {
   "cell_type": "markdown",
   "metadata": {},
   "source": [
    "#### create query. This does not execute it."
   ]
  },
  {
   "cell_type": "code",
   "execution_count": 7,
   "metadata": {},
   "outputs": [],
   "source": [
    "es_chicago = Elasticsearch(['atlas-kibana.mwt2.org:9200'],timeout=60)                                              \n",
    "\n",
    "query_chicago = {\n",
    "    \"_source\": [   \"timestamp\", \"srcSite\", \"destSite\", \"delay_mean\"  ],\n",
    "    \"query\": {\n",
    "        \"bool\": {\n",
    "        \"must\": [\n",
    "            { \"range\": {  \"timestamp\": { \"gte\": start,  \"lte\": end,  \"format\": \"epoch_second\"  }  } },\n",
    "            { \"term\" : {\"_type\" : \"latency\"}},\n",
    "            { \"term\" : {\"srcVO\" : \"ATLAS\"}},\n",
    "            { \"term\" : {\"destVO\" : \"ATLAS\"}}\n",
    "        ]  }  }\n",
    "}"
   ]
  },
  {
   "cell_type": "markdown",
   "metadata": {},
   "source": [
    "#### now we actually stream data"
   ]
  },
  {
   "cell_type": "code",
   "execution_count": 14,
   "metadata": {
    "collapsed": true
   },
   "outputs": [
    {
     "name": "stdout",
     "output_type": "stream",
     "text": [
      "Processing event number  0\n",
      "Processing event number  100000\n",
      "Processing event number  200000\n",
      "232401 entries processes in 16 seconds. Rate was: 14502.876678\n"
     ]
    }
   ],
   "source": [
    "scroll_chicago = scan(client=es_chicago, query=query_chicago, index=\"network_weather-2017*\", scroll='5m', timeout='5m', size=10000, filter_path=['_scroll_id', '_shards', 'hits.hits._source'])\n",
    "\n",
    "counter = 0\n",
    "start_time = time.time()\n",
    "for entry in scroll_chicago:\n",
    "    if not counter%100000:  \n",
    "        print(\"Processing event number \", counter)\n",
    "    #print (entry)\n",
    "#     break\n",
    "    counter += 1\n",
    "\n",
    "print(\"%s entries processes in %i seconds. Rate was: %f doc/s.\" %(counter, time.time() - start_time, counter/(time.time() - start_time) ))"
   ]
  },
  {
   "cell_type": "code",
   "execution_count": null,
   "metadata": {},
   "outputs": [],
   "source": []
  }
 ],
 "metadata": {
  "kernelspec": {
   "display_name": "Python 3",
   "language": "python",
   "name": "python3"
  },
  "language_info": {
   "codemirror_mode": {
    "name": "ipython",
    "version": 3
   },
   "file_extension": ".py",
   "mimetype": "text/x-python",
   "name": "python",
   "nbconvert_exporter": "python",
   "pygments_lexer": "ipython3",
   "version": "3.5.2"
  }
 },
 "nbformat": 4,
 "nbformat_minor": 2
}
